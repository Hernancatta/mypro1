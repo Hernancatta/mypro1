{
  "nbformat": 4,
  "nbformat_minor": 0,
  "metadata": {
    "colab": {
      "provenance": [],
      "authorship_tag": "ABX9TyMASsskkb6xOq2e63PU4cXm",
      "include_colab_link": true
    },
    "kernelspec": {
      "name": "python3",
      "display_name": "Python 3"
    },
    "language_info": {
      "name": "python"
    }
  },
  "cells": [
    {
      "cell_type": "markdown",
      "metadata": {
        "id": "view-in-github",
        "colab_type": "text"
      },
      "source": [
        "<a href=\"https://colab.research.google.com/github/Hernancatta/mypro1/blob/main/mypro1.ipynb\" target=\"_parent\"><img src=\"https://colab.research.google.com/assets/colab-badge.svg\" alt=\"Open In Colab\"/></a>"
      ]
    },
    {
      "cell_type": "code",
      "execution_count": 4,
      "metadata": {
        "colab": {
          "base_uri": "https://localhost:8080/"
        },
        "id": "-XbIVa3ninKa",
        "outputId": "98e3d22d-0e97-4a66-84bb-eab2704c6b7d"
      },
      "outputs": [
        {
          "output_type": "stream",
          "name": "stdout",
          "text": [
            "git version 2.34.1\n"
          ]
        }
      ],
      "source": [
        "!git --version"
      ]
    },
    {
      "cell_type": "code",
      "source": [
        "!git clone https://github.com/Hernancatta/mypro1.git"
      ],
      "metadata": {
        "colab": {
          "base_uri": "https://localhost:8080/"
        },
        "id": "IoIhxa-V2Xtm",
        "outputId": "47a395b8-36eb-4ea0-ad43-9b76e8448bbb"
      },
      "execution_count": 5,
      "outputs": [
        {
          "output_type": "stream",
          "name": "stdout",
          "text": [
            "Cloning into 'mypro1'...\n",
            "remote: Enumerating objects: 3, done.\u001b[K\n",
            "remote: Counting objects: 100% (3/3), done.\u001b[K\n",
            "remote: Compressing objects: 100% (2/2), done.\u001b[K\n",
            "remote: Total 3 (delta 0), reused 0 (delta 0), pack-reused 0 (from 0)\u001b[K\n",
            "Receiving objects: 100% (3/3), done.\n"
          ]
        }
      ]
    },
    {
      "cell_type": "code",
      "source": [
        "%cd mypro1"
      ],
      "metadata": {
        "colab": {
          "base_uri": "https://localhost:8080/"
        },
        "id": "qcs9FPyD29Vn",
        "outputId": "a9263a1a-b16d-4ab8-9c3c-41f37a6e6525"
      },
      "execution_count": 6,
      "outputs": [
        {
          "output_type": "stream",
          "name": "stdout",
          "text": [
            "/content/mypro/mypro1\n"
          ]
        }
      ]
    },
    {
      "cell_type": "code",
      "source": [
        "with open(\"novo_arquivo.py\", \"w\") as f:\n",
        "    f.write(\"print('Olá, GitHub!')\")"
      ],
      "metadata": {
        "id": "ZiYEEWwf314H"
      },
      "execution_count": 7,
      "outputs": []
    },
    {
      "cell_type": "code",
      "source": [
        "!git add ."
      ],
      "metadata": {
        "id": "5OacqXmY349D"
      },
      "execution_count": 8,
      "outputs": []
    },
    {
      "cell_type": "code",
      "source": [
        "import pandas as pd\n"
      ],
      "metadata": {
        "id": "M5qJkBRS4OUz"
      },
      "execution_count": 9,
      "outputs": []
    },
    {
      "cell_type": "code",
      "source": [
        "!git commit -m \"Teste\""
      ],
      "metadata": {
        "colab": {
          "base_uri": "https://localhost:8080/"
        },
        "id": "sLvR6Xl64RSq",
        "outputId": "62d0cb41-ab73-4144-c9ee-285ed5ba1f41"
      },
      "execution_count": 20,
      "outputs": [
        {
          "output_type": "stream",
          "name": "stdout",
          "text": [
            "[main aaf6705] Teste\n",
            " 1 file changed, 1 insertion(+)\n",
            " create mode 100644 novo_arquivo.py\n"
          ]
        }
      ]
    },
    {
      "cell_type": "code",
      "source": [
        "!git push origin main"
      ],
      "metadata": {
        "colab": {
          "base_uri": "https://localhost:8080/"
        },
        "id": "56l8lvfs4mRB",
        "outputId": "8034efdd-ef36-48d1-8396-e6d723e969c0"
      },
      "execution_count": 21,
      "outputs": [
        {
          "output_type": "stream",
          "name": "stdout",
          "text": [
            "fatal: could not read Username for 'https://github.com': No such device or address\n"
          ]
        }
      ]
    },
    {
      "cell_type": "code",
      "source": [
        "!git config --global user.name \"Hernancatta\""
      ],
      "metadata": {
        "id": "2ev5CxYV5BfF"
      },
      "execution_count": 22,
      "outputs": []
    },
    {
      "cell_type": "code",
      "source": [
        "!git config --global user.name \"Hernancatta\""
      ],
      "metadata": {
        "id": "lOR_-JOT5YCH"
      },
      "execution_count": 17,
      "outputs": []
    },
    {
      "cell_type": "code",
      "source": [
        "!git config --global user.email \"lucas.sandrade@aluno.faculdadeimpacta.com.br\""
      ],
      "metadata": {
        "id": "qGf_dIru5ovh"
      },
      "execution_count": 23,
      "outputs": []
    },
    {
      "cell_type": "markdown",
      "source": [
        "### Bolsa Formação"
      ],
      "metadata": {
        "id": "_OqBYTAi0rz5"
      }
    },
    {
      "cell_type": "markdown",
      "source": [
        "# A Bolsa Formação custeia a oferta de vagas gratuitas de cursos técnicos e de formação inicial e continuada. ano base (2022)\n",
        "\n",
        "# Por meio da Bolsa Formação, a Setec/MEC apoia as instituições vinculadas às diversas redes de ensino do país na oferta de vagas gratuitas em cursos de educação profissional técnica de nível médio e cursos de formação inicial e continuada (FIC) ou qualificação profissional, custeando a abertura de vagas.\n",
        "\n",
        "\n",
        "Licença: Open Data Commons Open Database License (ODbL)\n",
        "Formatos: CSV; JSON;\n",
        "Atualização: Anual\n",
        "Última alteração: 28/04/2023 15:20:45"
      ],
      "metadata": {
        "id": "jwSarNri0t0t"
      }
    },
    {
      "cell_type": "markdown",
      "source": [],
      "metadata": {
        "id": "iM92vJFQ0kRL"
      }
    },
    {
      "cell_type": "markdown",
      "source": [
        "## Descrição\n",
        "\n",
        "#A Bolsa Formação custeia a oferta de vagas gratuitas de cursos técnicos e de formação inicial e continuada.\n",
        "\n",
        "Por meio da Bolsa Formação, a Setec/MEC apoia as instituições vinculadas às diversas redes de ensino do país na oferta de vagas gratuitas em cursos de educação profissional técnica de nível médio e cursos de formação inicial e continuada (FIC) ou qualificação profissional, custeando a abertura de vagas."
      ],
      "metadata": {
        "id": "2TnH-2tN1Slr"
      }
    }
  ]
}